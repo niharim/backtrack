{
  "nbformat": 4,
  "nbformat_minor": 0,
  "metadata": {
    "colab": {
      "name": "Untitled17.ipynb",
      "provenance": []
    },
    "kernelspec": {
      "name": "python3",
      "display_name": "Python 3"
    },
    "language_info": {
      "name": "python"
    }
  },
  "cells": [
    {
      "cell_type": "code",
      "source": [
        " N = 4\n",
        "  \n",
        "\n",
        "ld = [0] * 30\n",
        "  \n",
        "\n",
        "rd = [0] * 30\n",
        "\n",
        "cl = [0] * 30\n",
        "  \n",
        "\n",
        "def printSolution(board): \n",
        "    for i in range(N):\n",
        "        for j in range(N):\n",
        "            print(board[i][j], end = \" \")\n",
        "        print() \n",
        "  \n",
        "\n",
        "def solveNQUtil(board, col): \n",
        "      \n",
        "  \n",
        "    if (col >= N):\n",
        "        return True\n",
        "          \n",
        "   \n",
        "    for i in range(N):\n",
        "          \n",
        "      \n",
        "        if ((ld[i - col + N - 1] != 1 and \n",
        "             rd[i + col] != 1) and cl[i] != 1):\n",
        "          \n",
        "            board[i][col] = 1\n",
        "            ld[i - col + N - 1] = rd[i + col] = cl[i] = 1\n",
        "              \n",
        "         \n",
        "            if (solveNQUtil(board, col + 1)):\n",
        "                return True\n",
        "                  \n",
        "           \n",
        "            board[i][col] = 0 # BACKTRACK \n",
        "            ld[i - col + N - 1] = rd[i + col] = cl[i] = 0\n",
        "              \n",
        "            \n",
        "    return False\n",
        "      \n",
        "\n",
        "def solveNQ():\n",
        "    board = [[0, 0, 0, 0], \n",
        "             [0, 0, 0, 0],\n",
        "             [0, 0, 0, 0],\n",
        "             [0, 0, 0, 0]]\n",
        "    if (solveNQUtil(board, 0) == False):\n",
        "        printf(\"Solution does not exist\")\n",
        "        return False\n",
        "    printSolution(board)\n",
        "    return True\n",
        "      \n",
        "# Driver Code\n",
        "solveNQ()"
      ],
      "metadata": {
        "colab": {
          "base_uri": "https://localhost:8080/"
        },
        "id": "Tny9Wk9k1Btz",
        "outputId": "0db52203-5a1d-4bd5-d898-8d066d1ca84e"
      },
      "execution_count": null,
      "outputs": [
        {
          "output_type": "stream",
          "name": "stdout",
          "text": [
            "0 0 1 0 \n",
            "1 0 0 0 \n",
            "0 0 0 1 \n",
            "0 1 0 0 \n"
          ]
        },
        {
          "output_type": "execute_result",
          "data": {
            "text/plain": [
              "True"
            ]
          },
          "metadata": {},
          "execution_count": 4
        }
      ]
    }
  ]
}